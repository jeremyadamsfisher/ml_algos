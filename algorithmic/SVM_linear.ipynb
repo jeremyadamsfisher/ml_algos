{
 "cells": [
  {
   "cell_type": "code",
   "execution_count": 32,
   "metadata": {},
   "outputs": [],
   "source": [
    "import typing as t\n",
    "import numpy as np\n",
    "import matplotlib.pyplot as plt\n",
    "import sklearn.datasets as ds\n",
    "from sklearn import svm\n",
    "from random import choice"
   ]
  },
  {
   "cell_type": "code",
   "execution_count": 8,
   "metadata": {},
   "outputs": [
    {
     "data": {
      "text/plain": [
       "(100, 2)"
      ]
     },
     "execution_count": 8,
     "metadata": {},
     "output_type": "execute_result"
    }
   ],
   "source": [
    "X, y = ds.make_blobs(100, 2, centers=2)\n",
    "n_examples, n_features = X.shape\n",
    "n_examples, n_features"
   ]
  },
  {
   "cell_type": "code",
   "execution_count": 12,
   "metadata": {},
   "outputs": [],
   "source": [
    "def plot_decision_function(classifier, axis, title):\n",
    "    # plot the decision function\n",
    "    xx, yy = np.meshgrid(np.linspace(X[:,0].min(),\n",
    "                                     X[:,0].max(), 500),\n",
    "                         np.linspace(X[:,1].min(), \n",
    "                                     X[:,1].max(), 500))\n",
    "    Z = classifier.decision_function(np.c_[xx.ravel(), yy.ravel()])\n",
    "    Z = Z.reshape(xx.shape)\n",
    "    # plot the line, the points, and the nearest vectors to the plane\n",
    "    axis.contourf(xx, yy, Z, alpha=0.75, cmap=plt.cm.bone)\n",
    "    axis.scatter(X[:, 0], X[:, 1], c=y, alpha=0.9, cmap=plt.cm.bone, edgecolors='black')\n",
    "    axis.set_title(title)"
   ]
  },
  {
   "cell_type": "code",
   "execution_count": 13,
   "metadata": {},
   "outputs": [
    {
     "data": {
      "image/png": "[encoded data removed]",
      "text/plain": [
       "<Figure size 360x360 with 1 Axes>"
      ]
     },
     "metadata": {
      "needs_background": "light"
     },
     "output_type": "display_data"
    }
   ],
   "source": [
    "model = svm.SVC(kernel=\"linear\").fit(X, y)\n",
    "fig, ax = plt.subplots(1,1,figsize=(5, 5))\n",
    "plot_decision_function(model, ax, \"Sklearn SVM\")"
   ]
  },
  {
   "cell_type": "code",
   "execution_count": 46,
   "metadata": {},
   "outputs": [],
   "source": [
    "def SMO(C: float,\n",
    "        tolerance: float,\n",
    "        max_passes: int,\n",
    "        X, y,\n",
    "        kernel: t.Callable = None\n",
    "        ) -> t.Tuple[t.Sequence, float]:\n",
    "    \"\"\"Perform SVM classification based on the Sequential Minimal Optimization\n",
    "    algorithm presented here: http://cs229.stanford.edu/materials/smo.pdf\n",
    "    \n",
    "    The broad stroke of the algorithm is as follows:\n",
    "     - SMO is a linear classifier that predicts:\n",
    "         1 if 0 < (w.T @ x + b) else -1\n",
    "       or alternately:\n",
    "         0 if 0 < (sum_{i=1}^{m} ⍺_i * y^i * dot(x^i, x)) else -1\n",
    "       where we can substitute the dot product for any other kernel, e.g. RBF \n",
    "     - Solve max_⍺ for the dual-form✝:\n",
    "       W(⍺) = sum_{i=1}^{m} ⍺_i - (1/2) [ sum_{i=1}^{m} sum_{j=1}^{m}   ⍺_i * ⍺_j * y^i y^j * dot(x^i, x^j)]\n",
    "     - Subject to:\n",
    "       - 0 <= ⍺_i <= C for all i = {1, ..., m}\n",
    "       - sum_{i=1}^{m} ⍺_i y^i = 0\n",
    "\n",
    "    ✝ look into this\n",
    "    \n",
    "    Arguments:\n",
    "        C: regulatization parameter\n",
    "        tolerance: equality tolerance with floating point precision\n",
    "        max_passes: number of iterations to perform without ⍺'s\n",
    "            changing before terminating\n",
    "        X, y: training data\n",
    "    Returns:\n",
    "        𝞪: lagrange multipliers for solution\n",
    "        b: threshold for solution \n",
    "    \"\"\"\n",
    "    if kernel is None:\n",
    "        kernel = np.dot\n",
    "    n_examples, _ = X.shape\n",
    "    \n",
    "    𝞪 = np.zeros(n_examples)\n",
    "    b = 0\n",
    "    \n",
    "    def lin_classifier(x: np.ndarray):\n",
    "        \"\"\"f(x) = w.T@X + b expressed using lagrange multipliers\"\"\"\n",
    "        # need to look into how this derived from w.T@x + b\n",
    "        return (np.multiply(𝞪, y)*kernel(X, x)).sum()\n",
    "        # return sum(\n",
    "        #     𝞪[i]*y[i]* kernel(X[i], x) for i in range(n_examples\n",
    "        # )\n",
    "        \n",
    "    passes = 0\n",
    "    while passes < max_passes:\n",
    "        E = lin_classifier(X) - y\n",
    "        assert E.shape == y.shape\n",
    "        for i in range(n_examples):\n",
    "            𝞪_i_old = 𝞪[i]\n",
    "            if ((y[i]*E[i] < -tolerance) and (𝞪[i] < C)) \\\n",
    "            or ((y[i]*E[i] > tolerance)  and (𝞪[i] < C)):\n",
    "                j = i\n",
    "                while j == i:\n",
    "                    j = choice(range(n_examples))\n",
    "                𝞪_j_old = 𝞪[j]\n",
    "                if y[i] == y[j]:\n",
    "                    L = max(0, 𝞪[j] - 𝞪[i])\n",
    "                    H = min(C, C + 𝞪[j] - 𝞪[i])\n",
    "                else:\n",
    "                    L = max(0, 𝞪[i] + 𝞪[j] - C)\n",
    "                    H = min(C, 𝞪[i] + 𝞪[j])\n",
    "                if L == H:\n",
    "                    continue\n",
    "                else:\n",
    "                    η = 2*kernel(x[i], x[j]) \\\n",
    "                        - kernel(x[i], x[i]) \\\n",
    "                        - kernel(x[j], x[j])\n",
    "                    if 0 <= η:\n",
    "                        continue\n",
    "                    else:\n",
    "                        𝞪[j] -= (E[i] - E[j]) / η\n",
    "                        if H < 𝞪[j]:\n",
    "                            𝞪[j] = H\n",
    "                        elif 𝞪[j] < L:\n",
    "                            𝞪[j] = L\n",
    "                        if abs(𝞪[j] - 𝞪_j_old) < 1e-5;\n",
    "                            continue\n",
    "                        else:\n",
    "                            𝞪[i] += y[i]*y[j]*(𝞪_j_old-𝞪_j)\n",
    "                            # eq 17\n",
    "                            b1 = b \\\n",
    "                               - E[i] \\\n",
    "                               - y[i]*(𝞪[i]-𝞪_i_old)*kernel(x[i],x[i]) \n",
    "                               - y[j]*(𝞪[j]-𝞪_j_old)\n",
    "                            b2 = # eq 18\n",
    "                    \n",
    "                    \n",
    "                    \n",
    "    raise NotImplementedError"
   ]
  },
  {
   "cell_type": "code",
   "execution_count": null,
   "metadata": {},
   "outputs": [],
   "source": []
  }
 ],
 "metadata": {
  "kernelspec": {
   "display_name": "Data Cruncher",
   "language": "python",
   "name": "crunch"
  },
  "language_info": {
   "codemirror_mode": {
    "name": "ipython",
    "version": 3
   },
   "file_extension": ".py",
   "mimetype": "text/x-python",
   "name": "python",
   "nbconvert_exporter": "python",
   "pygments_lexer": "ipython3",
   "version": "3.7.6"
  }
 },
 "nbformat": 4,
 "nbformat_minor": 4
}
