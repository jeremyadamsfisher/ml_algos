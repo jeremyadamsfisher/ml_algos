{
 "cells": [
  {
   "cell_type": "code",
   "execution_count": 1,
   "metadata": {},
   "outputs": [],
   "source": [
    "import numpy as np\n",
    "import matplotlib.pyplot as plt\n",
    "import celluloid\n",
    "plt.style.use(\"ggplot\")"
   ]
  },
  {
   "cell_type": "markdown",
   "metadata": {},
   "source": [
    "# logistic regression"
   ]
  },
  {
   "cell_type": "code",
   "execution_count": 2,
   "metadata": {},
   "outputs": [
    {
     "data": {
      "text/plain": [
       "[<matplotlib.lines.Line2D at 0x11ef682d0>]"
      ]
     },
     "execution_count": 2,
     "metadata": {},
     "output_type": "execute_result"
    },
    {
     "data": {
      "image/png": "[encoded data removed]",
      "text/plain": [
       "<Figure size 432x288 with 1 Axes>"
      ]
     },
     "metadata": {},
     "output_type": "display_data"
    }
   ],
   "source": [
    "def sigmoid(z):\n",
    "    return 1 / (1 + np.e**(-z))\n",
    "\n",
    "x = np.linspace(-6,6)\n",
    "plt.plot(x,sigmoid(x))"
   ]
  },
  {
   "cell_type": "markdown",
   "metadata": {},
   "source": [
    "## one feature regression"
   ]
  },
  {
   "cell_type": "code",
   "execution_count": 3,
   "metadata": {},
   "outputs": [],
   "source": [
    "np.random.seed(1)\n",
    "# build a dataset\n",
    "n = 100\n",
    "x = np.append(15 * np.random.randn(n) + 45,\n",
    "              6 * np.random.randn(n))\n",
    "y = np.append(np.zeros(shape=n),\n",
    "              np.ones(shape=n))\n",
    "# normalize dataset\n",
    "x = (x - x.mean()) / x.std()"
   ]
  },
  {
   "cell_type": "code",
   "execution_count": null,
   "metadata": {},
   "outputs": [],
   "source": [
    "# initialize parameters\n",
    "learning_rate = 0.25\n",
    "w = np.squeeze(np.random.uniform(-0.1, 0.1, size=1))\n",
    "b = 0\n",
    "\n",
    "# optimize and visualize\n",
    "fig = plt.figure()\n",
    "camera = celluloid.Camera(fig)\n",
    "for i in range(50):\n",
    "    activations = sigmoid(w*x + b)\n",
    "    loss = np.mean(-y*np.log(activations) - (1-y)*np.log(1-activations))\n",
    "    dloss = (activations - y)\n",
    "    w -= learning_rate * (x * dloss).mean()\n",
    "    b -= learning_rate * dloss.mean()\n",
    "    domain = np.linspace(x.min(),x.max(), 50)\n",
    "    s = plt.plot(domain, sigmoid(w*domain+b), color=\"black\")\n",
    "    plt.legend(s, [f\"w={w:.2f}, b={b:.2f}\"])\n",
    "    plt.scatter(x[activations >= 0.5], y[activations >= 0.5], color=\"red\")\n",
    "    plt.scatter(x[activations < 0.5],  y[activations < 0.5],  color=\"blue\")\n",
    "    camera.snap()\n",
    "    \n",
    "camera.animate(interval=100).save('1d_logistic_regression.gif', writer='imagemagick', fps=100)"
   ]
  },
  {
   "cell_type": "markdown",
   "metadata": {},
   "source": [
    "![1d_logistic_regression](1d_logistic_regression.gif)"
   ]
  },
  {
   "cell_type": "markdown",
   "metadata": {},
   "source": [
    "## 2 feature regression"
   ]
  },
  {
   "cell_type": "code",
   "execution_count": 5,
   "metadata": {},
   "outputs": [],
   "source": [
    "n = 100\n",
    "X = np.concatenate((3*np.random.randn(n,2)+4,\n",
    "                    5*np.random.randn(n,2)-6)).T\n",
    "y = np.concatenate((np.zeros(shape=(n,1)),\n",
    "                    np.ones(shape=(n,1)))).T\n",
    "\n",
    "X = (X - X.mean()) / X.std()"
   ]
  },
  {
   "cell_type": "code",
   "execution_count": 6,
   "metadata": {},
   "outputs": [],
   "source": [
    "rez = 100\n",
    "d0 = np.linspace(X[0,:].min(), X[0,:].max(), rez)\n",
    "d1 = np.linspace(X[1,:].min(), X[1,:].max(), rez)\n",
    "d0, d1 = np.meshgrid(d0, d1)"
   ]
  },
  {
   "cell_type": "code",
   "execution_count": null,
   "metadata": {},
   "outputs": [],
   "source": [
    "W = np.random.uniform(-0.5, 0.5, size=(2,1))\n",
    "b = 0\n",
    "\n",
    "learning_rate = 0.1\n",
    "\n",
    "fig, ax = plt.subplots(figsize=(5,5))\n",
    "camera = celluloid.Camera(fig)\n",
    "for i in range(50):\n",
    "    if i % 10:\n",
    "        learning_rate *= 0.99\n",
    "        \n",
    "    activations = sigmoid(W.T@X + b)\n",
    "    loss = np.mean(-y*np.log(activations) - (1-y)*np.log(1-activations))\n",
    "    dloss = (activations - y)\n",
    "    W -= learning_rate * (X * dloss).mean()\n",
    "    b -= learning_rate * dloss.mean()\n",
    "    \n",
    "    correct_classification = np.squeeze((0.5 < activations) == y)\n",
    "    \n",
    "    if i % 25:\n",
    "        contour = ax.contour(d0,\n",
    "                             d1,\n",
    "                             (W[0] * d0) + (W[1] * d1) + b,\n",
    "                             levels=[0.25, 0.5, 0.75])\n",
    "        correct = ax.scatter(X[0,correct_classification],\n",
    "                             X[1,correct_classification],\n",
    "                             c=np.squeeze(y[:,correct_classification]),\n",
    "                             marker=\".\")\n",
    "        incorrect = ax.scatter(X[0,~correct_classification],\n",
    "                               X[1,~correct_classification],\n",
    "                               color=\"red\",\n",
    "                               marker=\"x\")\n",
    "        ax.legend([f\"w=[{W[0][0]:.2f},{W[1][0]:.2f}], \"\n",
    "                   f\"b={b:.2f}, \"\n",
    "                   f\"acc={correct_classification.mean():.2f}\"])\n",
    "    \n",
    "    camera.snap()\n",
    "camera.animate(interval=100).save('2d_logistic_regression.gif', writer='imagemagick', fps=100)"
   ]
  },
  {
   "cell_type": "markdown",
   "metadata": {},
   "source": [
    "![2d_logistic_regression](2d_logistic_regression.gif)"
   ]
  }
 ],
 "metadata": {
  "kernelspec": {
   "display_name": "Data Cruncher",
   "language": "python",
   "name": "crunch"
  },
  "language_info": {
   "codemirror_mode": {
    "name": "ipython",
    "version": 3
   },
   "file_extension": ".py",
   "mimetype": "text/x-python",
   "name": "python",
   "nbconvert_exporter": "python",
   "pygments_lexer": "ipython3",
   "version": "3.7.6"
  },
  "widgets": {
   "application/vnd.jupyter.widget-state+json": {
    "state": {},
    "version_major": 2,
    "version_minor": 0
   }
  }
 },
 "nbformat": 4,
 "nbformat_minor": 4
}
